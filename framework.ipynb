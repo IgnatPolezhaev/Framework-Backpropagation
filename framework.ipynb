{
 "cells": [
  {
   "cell_type": "markdown",
   "metadata": {
    "colab_type": "text",
    "id": "ucUIoKyJdAxb"
   },
   "source": [
    "# Framework"
   ]
  },
  {
   "cell_type": "code",
   "execution_count": 23,
   "metadata": {
    "colab": {},
    "colab_type": "code",
    "id": "o2DkIzfVdAxd"
   },
   "outputs": [],
   "source": [
    "import numpy as np"
   ]
  },
  {
   "cell_type": "code",
   "execution_count": 25,
   "metadata": {
    "colab": {},
    "colab_type": "code",
    "id": "oBVpDMN6dAxs"
   },
   "outputs": [],
   "source": [
    "class Module():\n",
    "    def __init__(self):\n",
    "        self._train = True\n",
    "    \n",
    "    def forward(self, input):\n",
    "        raise NotImplementedError\n",
    "\n",
    "    def backward(self,input, grad_output):\n",
    "        raise NotImplementedError\n",
    "    \n",
    "    def parameters(self):\n",
    "\n",
    "        return []\n",
    "    \n",
    "    def grad_parameters(self):\n",
    "\n",
    "        return []\n",
    "    \n",
    "    def train(self):\n",
    "        self._train = True\n",
    "    \n",
    "    def eval(self):\n",
    "        self._train = False"
   ]
  },
  {
   "cell_type": "code",
   "execution_count": 26,
   "metadata": {
    "colab": {},
    "colab_type": "code",
    "id": "0O968yWrdAxx",
    "outputId": "a2d80f27-6958-4c48-e947-0f905db7cbb9"
   },
   "outputs": [],
   "source": [
    "class Sequential(Module):\n",
    "    def __init__ (self, *layers):\n",
    "        super().__init__()\n",
    "        self.layers = layers\n",
    "\n",
    "    def forward(self, input):\n",
    "\n",
    "        for layer in self.layers:\n",
    "            input = layer.forward(input)\n",
    "\n",
    "        self.output = input\n",
    "        return self.output\n",
    "\n",
    "    def backward(self, input, grad_output):\n",
    "  \n",
    "        for i in range(len(self.layers)-1, 0, -1):\n",
    "            grad_output = self.layers[i].backward(self.layers[i-1].output, grad_output)\n",
    "        \n",
    "        grad_input = self.layers[0].backward(input, grad_output)\n",
    "        \n",
    "        return grad_input\n",
    "      \n",
    "    def parameters(self):\n",
    "\n",
    "        res = []\n",
    "        for l in self.layers:\n",
    "            res += l.parameters()\n",
    "        return res\n",
    "    \n",
    "    def grad_parameters(self):\n",
    "\n",
    "        res = []\n",
    "        for l in self.layers:\n",
    "            res += l.grad_parameters()\n",
    "        return res\n",
    "    \n",
    "    def train(self):\n",
    "        for layer in self.layers:\n",
    "            layer.train()\n",
    "    \n",
    "    def eval(self):\n",
    "        for layer in self.layers:\n",
    "            layer.eval()"
   ]
  },
  {
   "cell_type": "code",
   "execution_count": 27,
   "metadata": {
    "colab": {},
    "colab_type": "code",
    "id": "4uEjKIasdAx3"
   },
   "outputs": [],
   "source": [
    "class Linear(Module):\n",
    "    def __init__(self, dim_in, dim_out):\n",
    "        super().__init__()\n",
    "\n",
    "        stdv = 1./np.sqrt(dim_in)\n",
    "        self.W = np.random.uniform(-stdv, stdv, size=(dim_in, dim_out))\n",
    "        self.b = np.random.uniform(-stdv, stdv, size=dim_out)\n",
    "        \n",
    "    def forward(self, input):\n",
    "        self.output = np.dot(input, self.W) + self.b\n",
    "        return self.output\n",
    "    \n",
    "    def backward(self, input, grad_output):\n",
    "        self.grad_b = np.mean(grad_output, axis=0)\n",
    "\n",
    "        self.grad_W = np.dot(input.T, grad_output)\n",
    "        \n",
    "        grad_input = np.dot(grad_output, self.W.T)\n",
    "        \n",
    "        return grad_input\n",
    "    \n",
    "    def parameters(self):\n",
    "        return [self.W, self.b]\n",
    "    \n",
    "    def grad_parameters(self):\n",
    "        return [self.grad_W, self.grad_b]"
   ]
  },
  {
   "cell_type": "markdown",
   "metadata": {
    "colab_type": "text",
    "id": "-jLyEmMEdAx7"
   },
   "source": [
    "## Activation functions"
   ]
  },
  {
   "cell_type": "markdown",
   "metadata": {
    "colab_type": "text",
    "id": "H0ci6studAx7"
   },
   "source": [
    "**ReLU**\n",
    "$$\n",
    "ReLU(x)=\n",
    "\\begin{cases}\n",
    "x, & x > 0\\\\\n",
    "0, & x \\leq 0\\\\\n",
    "\\end{cases}\n",
    "$$"
   ]
  },
  {
   "cell_type": "code",
   "execution_count": 28,
   "metadata": {
    "colab": {},
    "colab_type": "code",
    "id": "HrayJEANdAx7"
   },
   "outputs": [],
   "source": [
    "class ReLU(Module):\n",
    "    def __init__(self):\n",
    "         super().__init__()\n",
    "    \n",
    "    def forward(self, input):\n",
    "        self.output = np.maximum(input, 0)\n",
    "        return self.output\n",
    "    \n",
    "    def backward(self, input, grad_output):\n",
    "        grad_input = np.multiply(grad_output, input > 0)\n",
    "        return grad_input"
   ]
  },
  {
   "cell_type": "markdown",
   "metadata": {
    "colab_type": "text",
    "id": "xUTaMFaWdAx8"
   },
   "source": [
    "**Leaky Rectified Linear Unit**\n",
    "$$\n",
    "LeakyReLU_k(x)=\n",
    "\\begin{cases}\n",
    "x, & x > 0\\\\\n",
    "kx, & x \\leq 0\\\\\n",
    "\\end{cases}\n",
    "$$"
   ]
  },
  {
   "cell_type": "code",
   "execution_count": 29,
   "metadata": {
    "colab": {},
    "colab_type": "code",
    "id": "OMWPFjxldAx8"
   },
   "outputs": [],
   "source": [
    "class LeakyReLU(Module):\n",
    "    def __init__(self, slope=0.03):\n",
    "        super().__init__()\n",
    "            \n",
    "        self.slope = slope\n",
    "        \n",
    "    def forward(self, input):\n",
    "        self.output = np.maximum(input, self.slope*input)\n",
    "        return self.output\n",
    "    \n",
    "    def backward(self, input, grad_output):\n",
    "        mask = (input > 0)\n",
    "        grad_input = np.multiply(grad_output, mask) + np.multiply(self.slope*grad_output, 1-mask)\n",
    "        return grad_input"
   ]
  },
  {
   "cell_type": "markdown",
   "metadata": {},
   "source": [
    "**Sigmoid** \n",
    "$$\\sigma(x) = \\frac{1}{1+e^{-x}}$$\n",
    "\n",
    "<img width='500px' src='https://upload.wikimedia.org/wikipedia/commons/thumb/5/53/Sigmoid-function-2.svg/2000px-Sigmoid-function-2.svg.png'>\n",
    "\n",
    "$$\n",
    "\\begin{align}\n",
    "\\sigma'(x) &= (\\frac{1}{1+e^{-x}})'\n",
    "\\\\         &= \\frac{e^{-x}}{(1+e^{-x})^2}\n",
    "\\\\         &= \\frac{1+e^{-x}-1}{(1+e^{-x})^2}\n",
    "\\\\         &= \\frac{1+e^{-x}}{(1+e^{-x})^2} - \\frac{1}{(1+e^{-x})^2}\n",
    "\\\\         &= \\frac{1}{1+e^{-x}} - \\frac{1}{(1+e^{-x})^2}\n",
    "\\\\         &= \\sigma(x) - \\sigma(x)^2\n",
    "\\\\         &= \\sigma(x)(1 - \\sigma(x))\n",
    "\\end{align}\n",
    "$$"
   ]
  },
  {
   "cell_type": "code",
   "execution_count": 30,
   "metadata": {
    "colab": {},
    "colab_type": "code",
    "id": "LUag-tekdAx-"
   },
   "outputs": [],
   "source": [
    "class Sigmoid(Module):\n",
    "    def __init__(self, slope=0.03):\n",
    "        super().__init__()\n",
    "\n",
    "    def forward(self, input):\n",
    "        self.output = 1/(1 + np.exp(input))\n",
    "        return self.output\n",
    "    \n",
    "    def backward(self, input, grad_output):\n",
    "        grad_input = grad_output*self.output*(1 - self.output)\n",
    "        return grad_input"
   ]
  },
  {
   "cell_type": "markdown",
   "metadata": {
    "colab_type": "text",
    "id": "kBhjcx0XdAx_"
   },
   "source": [
    "**Softmax**\n",
    "\n",
    "$$ \\sigma(x)_k = \\frac{e^{x_k}}{\\sum_{i=1}^n e^{x_i} }$$"
   ]
  },
  {
   "cell_type": "code",
   "execution_count": 143,
   "metadata": {
    "colab": {},
    "colab_type": "code",
    "id": "QS-6BIe6dAx_"
   },
   "outputs": [],
   "source": [
    "class SoftMax(Module):\n",
    "    def __init__(self):\n",
    "         super().__init__()\n",
    "    \n",
    "    def forward(self, input):\n",
    "\n",
    "        self.output = np.subtract(input, input.max(axis=1, keepdims=True))\n",
    "        self.output = np.divide(np.exp(self.output), np.sum(np.exp(self.output),axis = 1)[:,None])\n",
    "        \n",
    "        return self.output\n",
    "    \n",
    "    def backward(self, input, grad_output):\n",
    "        \n",
    "        grad_input = np.zeros((input.shape[0],input.shape[1]))\n",
    "        \n",
    "        for i in range(input.shape[0]):\n",
    "            matrix_proisvod = np.outer(self.output[i], self.output[i])\n",
    "            mass = np.array([1 for i in range(self.output.shape[1])])\n",
    "            matrix_proisvod = -matrix_proisvod + np.outer(self.output[i], mass)*np.eye(self.output.shape[1])\n",
    "            grad_input[i] = np.dot(grad_output[i], matrix_proisvod)\n",
    "            \n",
    "        return grad_input"
   ]
  },
  {
   "cell_type": "markdown",
   "metadata": {
    "colab_type": "text",
    "id": "h-5W8O3zdAyA"
   },
   "source": [
    "## Regularization"
   ]
  },
  {
   "cell_type": "markdown",
   "metadata": {
    "colab_type": "text",
    "id": "V5bmlefZdAyA"
   },
   "source": [
    "**Dropout**"
   ]
  },
  {
   "cell_type": "code",
   "execution_count": 32,
   "metadata": {
    "colab": {},
    "colab_type": "code",
    "id": "9nZsHZUDdAyA"
   },
   "outputs": [],
   "source": [
    "class Dropout(Module):\n",
    "    def __init__(self, p=0.5):\n",
    "        super().__init__()\n",
    "        \n",
    "        self.p = p\n",
    "        self.mask = None\n",
    "        \n",
    "    def forward(self, input):\n",
    "        if self._train:\n",
    "            mask = np.random.binomial(1, self.p, size=(input.shape[0],input.shape[1]))\n",
    "            self.output = input*mask\n",
    "        else:\n",
    "            self.output = input*self.p\n",
    "        return self.output\n",
    "    \n",
    "    def backward(self, input, grad_output):\n",
    "        if self._train:\n",
    "            grad_input = grad_output*self.output/input\n",
    "        else:\n",
    "            grad_input = grad_output*self.p\n",
    "        return grad_input"
   ]
  },
  {
   "cell_type": "markdown",
   "metadata": {
    "colab_type": "text",
    "id": "r0YNMOOIdAyB"
   },
   "source": [
    "**BatchNorm**\n",
    "\n",
    "<img width='300px' src='https://wiseodd.github.io/img/2016-07-04-batchnorm/00.png'>\n"
   ]
  },
  {
   "cell_type": "code",
   "execution_count": 1,
   "metadata": {
    "colab": {},
    "colab_type": "code",
    "id": "Bkl3--6RdAyB"
   },
   "outputs": [
    {
     "ename": "NameError",
     "evalue": "name 'Module' is not defined",
     "output_type": "error",
     "traceback": [
      "\u001b[1;31m---------------------------------------------------------------------------\u001b[0m",
      "\u001b[1;31mNameError\u001b[0m                                 Traceback (most recent call last)",
      "\u001b[1;32m<ipython-input-1-2c1257337a33>\u001b[0m in \u001b[0;36m<module>\u001b[1;34m\u001b[0m\n\u001b[1;32m----> 1\u001b[1;33m \u001b[1;32mclass\u001b[0m \u001b[0mBatchNorm\u001b[0m\u001b[1;33m(\u001b[0m\u001b[0mModule\u001b[0m\u001b[1;33m)\u001b[0m\u001b[1;33m:\u001b[0m\u001b[1;33m\u001b[0m\u001b[1;33m\u001b[0m\u001b[0m\n\u001b[0m\u001b[0;32m      2\u001b[0m     \u001b[1;32mdef\u001b[0m \u001b[0m__init__\u001b[0m\u001b[1;33m(\u001b[0m\u001b[0mself\u001b[0m\u001b[1;33m,\u001b[0m \u001b[0mgamma\u001b[0m \u001b[1;33m=\u001b[0m \u001b[1;36m0.3\u001b[0m\u001b[1;33m,\u001b[0m \u001b[0mbeta\u001b[0m \u001b[1;33m=\u001b[0m \u001b[1;36m0\u001b[0m\u001b[1;33m)\u001b[0m\u001b[1;33m:\u001b[0m\u001b[1;33m\u001b[0m\u001b[1;33m\u001b[0m\u001b[0m\n\u001b[0;32m      3\u001b[0m         \u001b[0msuper\u001b[0m\u001b[1;33m(\u001b[0m\u001b[1;33m)\u001b[0m\u001b[1;33m.\u001b[0m\u001b[0m__init__\u001b[0m\u001b[1;33m(\u001b[0m\u001b[1;33m)\u001b[0m\u001b[1;33m\u001b[0m\u001b[1;33m\u001b[0m\u001b[0m\n\u001b[0;32m      4\u001b[0m         \u001b[0mself\u001b[0m\u001b[1;33m.\u001b[0m\u001b[0mgamma\u001b[0m \u001b[1;33m=\u001b[0m \u001b[0mgamma\u001b[0m\u001b[1;33m\u001b[0m\u001b[1;33m\u001b[0m\u001b[0m\n\u001b[0;32m      5\u001b[0m         \u001b[0mself\u001b[0m\u001b[1;33m.\u001b[0m\u001b[0mbeta\u001b[0m \u001b[1;33m=\u001b[0m \u001b[0mbeta\u001b[0m\u001b[1;33m\u001b[0m\u001b[1;33m\u001b[0m\u001b[0m\n",
      "\u001b[1;31mNameError\u001b[0m: name 'Module' is not defined"
     ]
    }
   ],
   "source": [
    "class BatchNorm(Module):\n",
    "    def __init__(self, gamma = 0.3, beta = 0):\n",
    "        super().__init__()\n",
    "        self.gamma = gamma\n",
    "        self.beta = beta\n",
    "        self.mu = 0\n",
    "        self.sigma = 0\n",
    "    \n",
    "    def forward(self, input):\n",
    "        if self._train:\n",
    "            mu_prom = np.mean(input, axis=0)\n",
    "            sigma_prom = np.var(input, axis=0)\n",
    "            \n",
    "            self.output = (input - mu_prom)/np.sqrt(sigma_prom + 1e-8)\n",
    "            self.output = self.gamma*self.output + self.beta\n",
    "            \n",
    "            self.mu = 0.9*self.mu + 0.1*mu_prom\n",
    "            self.sigma = 0.9*self.sigma + 0.1*sigma_prom\n",
    "\n",
    "        else:\n",
    "            self.output = (input - self.mu)/np.sqrt(self.sigma + 1e-8)\n",
    "            self.output = self.gamma*self.output + self.beta\n",
    "        return self.output\n",
    "    \n",
    "    def backward(self, input, grad_output):\n",
    "        if self._train:\n",
    "            \n",
    "            mu_prom = np.mean(input, axis=0)\n",
    "            sigma_prom = np.var(input, axis=0)\n",
    "            \n",
    "            d_X_norm = self.gamma*grad_output\n",
    "            d_sigma = -0.5*np.sum(d_X_norm*(input - mu_prom), axis=0)/np.sqrt(sigma_prom + 1e-8)/(sigma_prom + 1e-8)\n",
    "            d_mu = -np.sum(d_X_norm/np.sqrt(sigma_prom + 1e-8), axis=0)\n",
    "            d_mu = d_mu - 2*d_sigma*np.sum(input - mu_prom, axis=0)/input.shape[1]\n",
    "            \n",
    "            grad_input = d_X_norm/np.sqrt(sigma_prom + 1e-8) + 2*d_sigma*(input - mu_prom)/input.shape[1]\n",
    "            grad_input = grad_input + d_mu/input.shape[1]\n",
    "            \n",
    "            self.d_gamma = np.sum(grad_output*(input - mu_prom)/np.sqrt(sigma_prom + 1e-8), axis=0)\n",
    "            self.d_beta = np.sum(grad_output, axis=0)\n",
    "        \n",
    "        else:\n",
    "            grad_input = input*grad_output/np.sqrt(self.sigma + 1e-8)*self.gamma\n",
    "            \n",
    "        return grad_input\n",
    "    \n",
    "                \n",
    "    def parameters(self):\n",
    "        return [self.gamma, self.beta]\n",
    "    \n",
    "    def grad_parameters(self):\n",
    "        return [self.d_gamma, self.d_beta]"
   ]
  },
  {
   "cell_type": "markdown",
   "metadata": {
    "colab_type": "text",
    "id": "IO_okIAhdAyC"
   },
   "source": [
    "## Criterion"
   ]
  },
  {
   "cell_type": "code",
   "execution_count": 35,
   "metadata": {
    "colab": {},
    "colab_type": "code",
    "id": "COX7VXtUdAyC"
   },
   "outputs": [],
   "source": [
    "class Criterion():        \n",
    "    def forward(self, input, target):\n",
    "        raise NotImplementedError\n",
    "\n",
    "    def backward(self, input, target):\n",
    "        raise NotImplementedError"
   ]
  },
  {
   "cell_type": "code",
   "execution_count": 36,
   "metadata": {
    "colab": {},
    "colab_type": "code",
    "id": "RLZXaG3OdAyD"
   },
   "outputs": [],
   "source": [
    "class MSE(Criterion):\n",
    "    def forward(self, input, target):\n",
    "        batch_size = input.shape[0]\n",
    "        self.output = np.sum(np.power(input - target, 2)) / batch_size\n",
    "        return self.output\n",
    " \n",
    "    def backward(self, input, target):\n",
    "        self.grad_output  = (input - target) * 2 / input.shape[0]\n",
    "        return self.grad_output"
   ]
  },
  {
   "cell_type": "code",
   "execution_count": 49,
   "metadata": {},
   "outputs": [],
   "source": [
    "class CrossEntropy(Criterion):\n",
    "    def __init__(self):\n",
    "        super().__init__()\n",
    "        \n",
    "    def forward(self, input, target): \n",
    "        batch_size = input.shape[0]\n",
    "        eps = 1e-9\n",
    "        input_clamp = np.clip(input, eps, 1 - eps)\n",
    "        \n",
    "        self.output = -np.sum(target*np.log(input_clamp)) / batch_size\n",
    "        return self.output\n",
    "\n",
    "    def backward(self, input, target):\n",
    "        eps = 1e-3\n",
    "        input_clamp = np.clip(input, eps, 1 - eps)\n",
    "        self.grad_output = (input_clamp - target) / input.shape[0]\n",
    "\n",
    "        return self.grad_output"
   ]
  }
 ],
 "metadata": {
  "colab": {
   "collapsed_sections": [],
   "name": "hw_framework.ipynb",
   "provenance": []
  },
  "kernelspec": {
   "display_name": "Python 3",
   "language": "python",
   "name": "python3"
  },
  "language_info": {
   "codemirror_mode": {
    "name": "ipython",
    "version": 3
   },
   "file_extension": ".py",
   "mimetype": "text/x-python",
   "name": "python",
   "nbconvert_exporter": "python",
   "pygments_lexer": "ipython3",
   "version": "3.7.6"
  }
 },
 "nbformat": 4,
 "nbformat_minor": 1
}
